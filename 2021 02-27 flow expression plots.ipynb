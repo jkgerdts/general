{
 "cells": [
  {
   "cell_type": "code",
   "execution_count": 2,
   "metadata": {},
   "outputs": [
    {
     "ename": "SystemExit",
     "evalue": "This program needs access to the screen. Please run with a\nFramework build of python, and only when you are logged in\non the main display of your Mac.",
     "output_type": "error",
     "traceback": [
      "An exception has occurred, use %tb to see the full traceback.\n",
      "\u001b[0;31mSystemExit\u001b[0m\u001b[0;31m:\u001b[0m This program needs access to the screen. Please run with a\nFramework build of python, and only when you are logged in\non the main display of your Mac.\n"
     ]
    },
    {
     "name": "stderr",
     "output_type": "stream",
     "text": [
      "/Users/jkgerdts/opt/anaconda3/lib/python3.7/site-packages/IPython/core/interactiveshell.py:3339: UserWarning: To exit: use 'exit', 'quit', or Ctrl-D.\n",
      "  warn(\"To exit: use 'exit', 'quit', or Ctrl-D.\", stacklevel=1)\n"
     ]
    }
   ],
   "source": [
    "from FlowCytometryTools import FCMeasurement\n",
    "\n",
    "files = [\n",
    "    '/Volumes/HooToo/2021 02-27 multi expression/96 Well - U bottom/Specimen_001_B2_B02_001.fcs',\n",
    "    '/Volumes/HooToo/2021 02-27 multi expression/96 Well - U bottom/Specimen_002_B3_B03_002.fcs',\n",
    "    '/Volumes/HooToo/2021 02-27 multi expression/96 Well - U bottom/Specimen_003_C3_C03_003.fcs',\n",
    "    '/Volumes/HooToo/2021 02-27 multi expression/96 Well - U bottom/Specimen_005_B4_B04_004.fcs',\n",
    "    '/Volumes/HooToo/2021 02-27 multi expression/96 Well - U bottom/Specimen_006_C4_C04_005.fcs',\n",
    "    '/Volumes/HooToo/2021 02-27 multi expression/96 Well - U bottom/Specimen_008_B5_B05_006.fcs',\n",
    "    '/Volumes/HooToo/2021 02-27 multi expression/96 Well - U bottom/Specimen_009_C5_C05_007.fcs',\n",
    "    '/Volumes/HooToo/2021 02-27 multi expression/96 Well - U bottom/Specimen_011_B6_B06_008.fcs',\n",
    "    '/Volumes/HooToo/2021 02-27 multi expression/96 Well - U bottom/Specimen_012_C6_C06_009.fcs',\n",
    "    '/Volumes/HooToo/2021 02-27 multi expression/96 Well - U bottom/Specimen_014_B7_B07_010.fcs',\n",
    "    '/Volumes/HooToo/2021 02-27 multi expression/96 Well - U bottom/Specimen_015_C7_C07_011.fcs',\n",
    "    '/Volumes/HooToo/2021 02-27 multi expression/96 Well - U bottom/Specimen_016_B8_B08_012.fcs',\n",
    "    '/Volumes/HooToo/2021 02-27 multi expression/96 Well - U bottom/Specimen_017_C8_C08_013.fcs',\n",
    "    '/Volumes/HooToo/2021 02-27 multi expression/96 Well - U bottom/Specimen_018_B9_B09_014.fcs',\n",
    "    '/Volumes/HooToo/2021 02-27 multi expression/96 Well - U bottom/Specimen_019_C9_C09_015.fcs']\n",
    "\n",
    "s = 'parental'\n",
    "sample = FCMeasurement(ID=s, datafile=files[0])\n",
    "tsample = sample.transform('hlog', channels=['FSC-A', 'FITC-A', 'APC-A'], b=1000.0)\n",
    "tsample.view_interactively(backend='wx')"
   ]
  },
  {
   "cell_type": "code",
   "execution_count": null,
   "metadata": {},
   "outputs": [],
   "source": []
  }
 ],
 "metadata": {
  "kernelspec": {
   "display_name": "Python 3",
   "language": "python",
   "name": "python3"
  },
  "language_info": {
   "codemirror_mode": {
    "name": "ipython",
    "version": 3
   },
   "file_extension": ".py",
   "mimetype": "text/x-python",
   "name": "python",
   "nbconvert_exporter": "python",
   "pygments_lexer": "ipython3",
   "version": "3.7.6"
  }
 },
 "nbformat": 4,
 "nbformat_minor": 4
}
