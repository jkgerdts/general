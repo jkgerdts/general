{
 "cells": [
  {
   "cell_type": "code",
   "execution_count": 1,
   "metadata": {},
   "outputs": [],
   "source": [
    "def convert(fromunits,tounits,*argv):\n",
    "    # handles the following (including prefixed versions)\n",
    "    # g/l<-->mol/l (g/mol = required argv)\n",
    "    # g<-->mol (g/mol)\n",
    "    # X<-->X (note: if scalar entered for tounits the result is a dilution factor)\n",
    "    # g or mol<-->l (g/mol)(mol/l) OR (g/l) ** detect first argv to decide\n",
    "\n",
    "    def extract(units):\n",
    "        # this function uses regular expressions (re) to extract the scalar, units, and magnitude factors from each input\n",
    "        import re\n",
    "        magnitudes={'f':10**-15,'p':10**-12,'n':10**-9,'u':10**-6,'m':10**-3,'c':10**-2,'d':0.1,'k':1000,'':1}\n",
    "        r=re.compile('([0-9\\.e\\-]*)([fpnumcdk]?(?!ol)) ?(g|mol|l?)/?([fpnumcdk]?(?!ol)) ?(g|mol|l?)')\n",
    "        m=r.findall(units)\n",
    "        scalar = m[0][0]\n",
    "        if scalar=='':\n",
    "            scalar=1\n",
    "        else:\n",
    "            scalar = float(scalar)\n",
    "        factor = magnitudes[m[0][1]]/magnitudes[m[0][3]]\n",
    "        meastype = m[0][2]+'_'+m[0][4]\n",
    "        #print(scalar,meastype,factor)\n",
    "        return (scalar,meastype,factor)\n",
    "\n",
    "    (f_s,f_m,f_f)=extract(fromunits)\n",
    "    (t_s,t_m,t_f)=extract(tounits)\n",
    "    \n",
    "    conversion = f_m+'-->'+t_m\n",
    "    factor = 0\n",
    "    printstring = 'this was not set'\n",
    "    \n",
    "    if f_m==t_m:\n",
    "        factor = (f_s*f_f/(t_s*t_f))\n",
    "        if t_s==1:\n",
    "            printstring = fromunits+' is @ '+tounits\n",
    "        else:\n",
    "            printstring = 'dilution factor is @'\n",
    "    elif conversion in ['g_l-->mol_l','g_-->mol_']:\n",
    "        (a_s,a_m,a_f)=extract(argv[0])\n",
    "        if a_m=='g_mol':\n",
    "            factor = (f_s*f_f)/(a_s*a_f)/(t_s*t_f)\n",
    "            printstring = printstring = fromunits+' is @ '+tounits\n",
    "        else:\n",
    "            print('error: expected single argv entry Xg/mol but received '+a_m)\n",
    "            \n",
    "    elif conversion in ['mol_l-->g_l','mol_-->g_']:\n",
    "        (a_s,a_m,a_f)=extract(argv[0])\n",
    "        if a_m=='g_mol':\n",
    "            factor = (f_s*f_f)*(a_s*a_f)/(t_s*t_f)\n",
    "            printstring = printstring = fromunits+' is @ '+tounits\n",
    "        else:\n",
    "            print('error: expected single argv entry Xg/mol but received '+a_m)\n",
    "    elif conversion=='g_-->l_':\n",
    "        (a_s,a_m,a_f)=extract(argv[0])\n",
    "        if a_m=='g_l':\n",
    "            factor = (f_s*f_f)/(a_s*a_f)/(t_s*t_f)\n",
    "            printstring = 'mix '+fromunits+' into @ '+tounits+' to make '+argv[0]\n",
    "        else:\n",
    "            (a2_s,a2_m,a2_f)=extract(argv[1])\n",
    "            if a_m+'__'+a2_m=='g_mol__mol_l':\n",
    "                factor = (f_s*f_f)/(a_s*a_f)/(a2_s*a2_f)/(t_s*t_f)\n",
    "                printstring = 'mix '+fromunits+' into @ '+tounits+' to make '+argv[1]\n",
    "            else:\n",
    "                print('error, anticipated g/mol then mol/l argvs')\n",
    "                \n",
    "    elif conversion=='mol_-->l_':\n",
    "        (a_s,a_m,a_f)=extract(argv[0])\n",
    "        if a_m=='mol_l':\n",
    "            factor = (f_s*f_f)/(a_s*a_f)/(t_s*t_f)\n",
    "            printstring = 'mix '+fromunits+' into @ '+tounits+' to make '+argv[0]\n",
    "        else:\n",
    "            (a2_s,a2_m,a2_f)=extract(argv[1])\n",
    "            if a_m+'__'+a2_m=='g_mol__g_l':\n",
    "                factor = (f_s*f_f)*(a_s*a_f)/(a2_s*a2_f)/(t_s*t_f)\n",
    "                printstring = 'mix '+fromunits+' into @ '+tounits+' to make '+argv[1]\n",
    "            else:\n",
    "                print('error, anticipated g/mol then g/l argvs')\n",
    "\n",
    "    elif conversion=='l_-->g_':\n",
    "        (a_s,a_m,a_f)=extract(argv[0])\n",
    "        if a_m=='g_l':\n",
    "            factor = (f_s*f_f)*(a_s*a_f)/(t_s*t_f)\n",
    "            printstring = 'mix @ '+tounits+' into '+fromunits+' to make '+argv[0]\n",
    "        else:\n",
    "            (a2_s,a2_m,a2_f)=extract(argv[1])\n",
    "            if a_m+'__'+a2_m=='g_mol__mol_l':\n",
    "                factor = (f_s*f_f)*(a2_s*a2_f)*(a_s*a_f)/(t_s*t_f)\n",
    "                printstring = 'mix @ '+tounits+' into '+fromunits+' to make '+argv[1]\n",
    "            else:\n",
    "                print('error, anticipated g/mol then mol/l argvs')\n",
    "                \n",
    "    elif conversion=='l_-->mol_':\n",
    "        (a_s,a_m,a_f)=extract(argv[0])\n",
    "        if a_m=='mol_l':\n",
    "            factor = (f_s*f_f)*(a_s*a_f)/(t_s*t_f)\n",
    "            printstring = 'mix @ '+tounits+' into '+fromunits+' to make '+argv[0]\n",
    "        else:\n",
    "            (a2_s,a2_m,a2_f)=extract(argv[1])\n",
    "            if a_m+'__'+a2_m=='g_mol__g_l':\n",
    "                factor = (f_s*f_f)*(a2_s*a2_f)/(a_s*a_f)/(t_s*t_f)\n",
    "                printstring = 'mix @ '+tounits+' into '+fromunits+' to make '+argv[0]\n",
    "            else:\n",
    "                print('error, anticipated g/mol then g/l argvs')\n",
    "                printstring = 'mix @ '+tounits+' into '+fromunits+' to make '+argv[1]\n",
    "\n",
    "    else:\n",
    "        print('not yet implemented')\n",
    "    if any([factor > 1000,factor < 0.001]):\n",
    "        factor_str = format(factor,'.2e')\n",
    "    elif factor > 100:\n",
    "        factor_str = format(factor,'.0f')\n",
    "    elif factor > 10:\n",
    "        factor_str = format(factor,'.1f')\n",
    "    elif factor  > 1:\n",
    "        factor_str = format(factor,'.2f')\n",
    "    elif factor  > 0.1:\n",
    "        factor_str = format(factor,'.3f')\n",
    "    elif factor  > 0.01:\n",
    "        factor_str = format(factor,'.4f')\n",
    "    else:\n",
    "        factor_str = format(factor,'.5f')\n",
    "\n",
    "    \n",
    "\n",
    "\n",
    "    print(printstring.replace('@',factor_str))\n",
    "    return factor"
   ]
  },
  {
   "cell_type": "code",
   "execution_count": 7,
   "metadata": {},
   "outputs": [
    {
     "name": "stdout",
     "output_type": "stream",
     "text": [
      "1200fmol/pl is 1.20 mmol/ml\n"
     ]
    },
    {
     "data": {
      "text/plain": [
       "1.2"
      ]
     },
     "execution_count": 7,
     "metadata": {},
     "output_type": "execute_result"
    }
   ],
   "source": [
    "convert('1200fmol/pl','mmol/ml')"
   ]
  },
  {
   "cell_type": "code",
   "execution_count": 8,
   "metadata": {},
   "outputs": [
    {
     "name": "stdout",
     "output_type": "stream",
     "text": [
      "5mmol is 2.50e+03 mg\n"
     ]
    },
    {
     "data": {
      "text/plain": [
       "2500.0"
      ]
     },
     "execution_count": 8,
     "metadata": {},
     "output_type": "execute_result"
    }
   ],
   "source": [
    "convert('5mmol','mg','500g/mol')"
   ]
  },
  {
   "cell_type": "code",
   "execution_count": 9,
   "metadata": {},
   "outputs": [
    {
     "name": "stdout",
     "output_type": "stream",
     "text": [
      "10mg/ml is 2.00e+04 nmol/ml\n"
     ]
    },
    {
     "data": {
      "text/plain": [
       "20000.0"
      ]
     },
     "execution_count": 9,
     "metadata": {},
     "output_type": "execute_result"
    }
   ],
   "source": [
    "convert('10mg/ml','nmol/ml','500g/mol')"
   ]
  },
  {
   "cell_type": "code",
   "execution_count": 10,
   "metadata": {},
   "outputs": [
    {
     "name": "stdout",
     "output_type": "stream",
     "text": [
      "mix 50.0 mg into 5ml to make 10g/l\n"
     ]
    },
    {
     "data": {
      "text/plain": [
       "50.0"
      ]
     },
     "execution_count": 10,
     "metadata": {},
     "output_type": "execute_result"
    }
   ],
   "source": [
    "convert('5ml','mg','10g/l')"
   ]
  },
  {
   "cell_type": "code",
   "execution_count": 6,
   "metadata": {},
   "outputs": [
    {
     "name": "stdout",
     "output_type": "stream",
     "text": [
      "mix 2ng into 3.33e-07 ml to make 12mmol/l\n"
     ]
    },
    {
     "data": {
      "text/plain": [
       "3.333333333333333e-07"
      ]
     },
     "execution_count": 6,
     "metadata": {},
     "output_type": "execute_result"
    }
   ],
   "source": [
    "convert('2ng','ml','500g/mol','12mmol/l')"
   ]
  }
 ],
 "metadata": {
  "kernelspec": {
   "display_name": "Python 3",
   "language": "python",
   "name": "python3"
  },
  "language_info": {
   "codemirror_mode": {
    "name": "ipython",
    "version": 3
   },
   "file_extension": ".py",
   "mimetype": "text/x-python",
   "name": "python",
   "nbconvert_exporter": "python",
   "pygments_lexer": "ipython3",
   "version": "3.7.6"
  }
 },
 "nbformat": 4,
 "nbformat_minor": 4
}
