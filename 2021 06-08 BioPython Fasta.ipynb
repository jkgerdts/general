{
 "cells": [
  {
   "cell_type": "code",
   "execution_count": 25,
   "metadata": {},
   "outputs": [
    {
     "data": {
      "text/plain": [
       "'IQNPDPAVYQLRDSKSSDKSVCLFTDFDSQTNVSQSKDSDVYITDKTVLDMRSMDFKSNSAVAWSNKSDFACANAFNNSIIPEDTFFPSPESSCDVKLVEKSFETDTNLNFQNLSVIGFRILLLKVAGFNLLMTLRLWSS'"
      ]
     },
     "execution_count": 25,
     "metadata": {},
     "output_type": "execute_result"
    }
   ],
   "source": [
    "from Bio import SeqIO\n",
    "from Bio.Seq import Seq\n",
    "from Bio.SeqRecord import SeqRecord\n",
    "from Bio.SeqFeature import SeqFeature, FeatureLocation\n",
    "from Bio.Alphabet import generic_protein\n",
    "\n",
    "f = next(SeqIO.parse(open('/Users/jkgerdts/Google Drive/LAB/cloning/cDNAs/TCRs/VDJ_pieces/TRAC_P01848.fasta'),'fasta'))\n",
    "str(f.seq)"
   ]
  },
  {
   "cell_type": "code",
   "execution_count": 35,
   "metadata": {},
   "outputs": [],
   "source": [
    "root = '/Users/jkgerdts/Google Drive/LAB/cloning/cDNAs/TCRs/VDJ_pieces/'\n",
    "import os\n",
    "\n",
    "dic = {}\n",
    "import re\n",
    "p = re.compile('(TR[ABVJC0-9-]+)_')\n",
    "\n",
    "for f in os.listdir(root):\n",
    "    name = p.findall(f)[0]\n",
    "    seq = str(next(SeqIO.parse(open(root+f),'fasta')).seq)\n",
    "    dic[name]=seq\n",
    "    \n",
    "st = ''\n",
    "features = []\n",
    "for element in ['TRBV28','CASSSTGLPYGGYTF','TRBJ1-2','TRBC1']:\n",
    "    ln = len(st)\n",
    "    if element in dic.keys():\n",
    "        st=st+dic[element]\n",
    "    else:\n",
    "        st=st+'X'+element+'X'\n",
    "    features.append(SeqFeature(FeatureLocation(ln,len(st)), type=element, id=element))\n",
    "#print(st)\n",
    "#print(features)\n",
    "\n",
    "record = SeqRecord(seq=Seq(st,alphabet=generic_protein))\n",
    "record.features=features\n",
    "\n",
    "#print(record.format('genbank'))\n",
    "with open(\"record.gb\", \"w\") as output_handle:\n",
    "    SeqIO.write(record, output_handle, \"genbank\")"
   ]
  },
  {
   "cell_type": "code",
   "execution_count": 15,
   "metadata": {},
   "outputs": [
    {
     "data": {
      "text/plain": [
       "SeqRecord(seq=Seq('IQNPDPAVYQLRDSKSSDKSVCLFTDFDSQTNVSQSKDSDVYITDKTVLDMRSM...WSS', SingleLetterAlphabet()), id='sp|P01848|TRAC_HUMAN', name='sp|P01848|TRAC_HUMAN', description='sp|P01848|TRAC_HUMAN T cell receptor alpha chain constant OS=Homo sapiens OX=9606 GN=TRAC PE=1 SV=2', dbxrefs=[])"
      ]
     },
     "execution_count": 15,
     "metadata": {},
     "output_type": "execute_result"
    }
   ],
   "source": [
    "f"
   ]
  },
  {
   "cell_type": "code",
   "execution_count": 17,
   "metadata": {},
   "outputs": [
    {
     "data": {
      "text/plain": [
       "[]"
      ]
     },
     "execution_count": 17,
     "metadata": {},
     "output_type": "execute_result"
    }
   ],
   "source": []
  },
  {
   "cell_type": "code",
   "execution_count": 31,
   "metadata": {},
   "outputs": [],
   "source": []
  },
  {
   "cell_type": "code",
   "execution_count": 32,
   "metadata": {},
   "outputs": [
    {
     "name": "stdout",
     "output_type": "stream",
     "text": [
      "LOCUS       .                        322 aa                     UNK 01-JAN-1980\n",
      "DEFINITION  .\n",
      "ACCESSION   <unknown id>\n",
      "VERSION     <unknown id>\n",
      "KEYWORDS    .\n",
      "SOURCE      .\n",
      "  ORGANISM  .\n",
      "            .\n",
      "FEATURES             Location/Qualifiers\n",
      "     TRBV28          1..114\n",
      "     CASSSTGLPYGGYTF 115..131\n",
      "     TRBJ1-2         132..146\n",
      "     TRBC1           147..322\n",
      "ORIGIN\n",
      "        1 mgirllcrva fcflavglvd vkvtqssryl vkrtgekvfl ecvqdmdhen mfwyrqdpgl\n",
      "       61 glrliyfsyd vkmkekgdip egysvsrekk erfslilesa stnqtsmylc asslxcasss\n",
      "      121 tglpyggytf xnygytfgsg trltvvdlnk vfppevavfe pseaeishtq katlvclatg\n",
      "      181 ffpdhvelsw wvngkevhsg vstdpqplke qpalndsryc lssrlrvsat fwqnprnhfr\n",
      "      241 cqvqfyglse ndewtqdrak pvtqivsaea wgradcgfts vsyqqgvlsa tilyeillgk\n",
      "      301 atlyavlvsa lvlmamvkrk df\n",
      "//\n",
      "\n"
     ]
    }
   ],
   "source": [
    "print(test.format('genbank'))"
   ]
  },
  {
   "cell_type": "code",
   "execution_count": null,
   "metadata": {},
   "outputs": [],
   "source": []
  }
 ],
 "metadata": {
  "kernelspec": {
   "display_name": "Python 3",
   "language": "python",
   "name": "python3"
  },
  "language_info": {
   "codemirror_mode": {
    "name": "ipython",
    "version": 3
   },
   "file_extension": ".py",
   "mimetype": "text/x-python",
   "name": "python",
   "nbconvert_exporter": "python",
   "pygments_lexer": "ipython3",
   "version": "3.7.6"
  }
 },
 "nbformat": 4,
 "nbformat_minor": 4
}
