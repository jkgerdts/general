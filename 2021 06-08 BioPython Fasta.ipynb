{
 "cells": [
  {
   "cell_type": "code",
   "execution_count": 12,
   "metadata": {},
   "outputs": [
    {
     "data": {
      "text/plain": [
       "Seq('IQNPDPAVYQLRDSKSSDKSVCLFTDFDSQTNVSQSKDSDVYITDKTVLDMRSM...WSS', SingleLetterAlphabet())"
      ]
     },
     "execution_count": 12,
     "metadata": {},
     "output_type": "execute_result"
    }
   ],
   "source": [
    "from Bio import SeqIO\n",
    "from Bio.SeqFeature import SeqFeature, FeatureLocation\n",
    "\n",
    "f = next(SeqIO.parse(open('/Users/jkgerdts/Google Drive/LAB/cloning/cDNAs/TCRs/VDJ_pieces/TRAC_P01848.fasta'),'fasta'))\n",
    "f.seq"
   ]
  },
  {
   "cell_type": "code",
   "execution_count": 13,
   "metadata": {},
   "outputs": [
    {
     "data": {
      "text/plain": [
       "['TRBC2_A0A5B9.fasta',\n",
       " 'TRBV20_A0A075B6N2.fasta',\n",
       " 'TRBJ1-2_A0A0J9YX06.fasta',\n",
       " 'TRBV28_A0A5B6.fasta',\n",
       " 'TRAJ40_A0N4X2.fasta',\n",
       " 'TRAJ48_A0A075B6V3.fasta',\n",
       " 'TRAV17_A0A0B4J275.fasta',\n",
       " 'TRAC_P01848.fasta',\n",
       " 'TRBC1_P01850.fasta',\n",
       " 'TRAV84_P01737.fasta',\n",
       " 'TRBJ2-1_A0A0A0MTA7.fasta']"
      ]
     },
     "execution_count": 13,
     "metadata": {},
     "output_type": "execute_result"
    }
   ],
   "source": [
    "root = '/Users/jkgerdts/Google Drive/LAB/cloning/cDNAs/TCRs/VDJ_pieces/'\n",
    "import os\n",
    "os.listdir(root)\n",
    "\n",
    "\n",
    "f1 = SeqFeature(FeatureLocation(5, 10), type=\"domain\")"
   ]
  },
  {
   "cell_type": "code",
   "execution_count": 14,
   "metadata": {},
   "outputs": [
    {
     "data": {
      "text/plain": [
       "Seq('IQNPDPAVYQLRDSKSSDKSVCLFTDFDSQTNVSQSKDSDVYITDKTVLDMRSM...WSS', SingleLetterAlphabet())"
      ]
     },
     "execution_count": 14,
     "metadata": {},
     "output_type": "execute_result"
    }
   ],
   "source": [
    "f.seq"
   ]
  },
  {
   "cell_type": "code",
   "execution_count": 15,
   "metadata": {},
   "outputs": [
    {
     "data": {
      "text/plain": [
       "SeqRecord(seq=Seq('IQNPDPAVYQLRDSKSSDKSVCLFTDFDSQTNVSQSKDSDVYITDKTVLDMRSM...WSS', SingleLetterAlphabet()), id='sp|P01848|TRAC_HUMAN', name='sp|P01848|TRAC_HUMAN', description='sp|P01848|TRAC_HUMAN T cell receptor alpha chain constant OS=Homo sapiens OX=9606 GN=TRAC PE=1 SV=2', dbxrefs=[])"
      ]
     },
     "execution_count": 15,
     "metadata": {},
     "output_type": "execute_result"
    }
   ],
   "source": [
    "f"
   ]
  },
  {
   "cell_type": "code",
   "execution_count": 17,
   "metadata": {},
   "outputs": [
    {
     "data": {
      "text/plain": [
       "[]"
      ]
     },
     "execution_count": 17,
     "metadata": {},
     "output_type": "execute_result"
    }
   ],
   "source": []
  },
  {
   "cell_type": "code",
   "execution_count": null,
   "metadata": {},
   "outputs": [],
   "source": []
  }
 ],
 "metadata": {
  "kernelspec": {
   "display_name": "Python 3",
   "language": "python",
   "name": "python3"
  },
  "language_info": {
   "codemirror_mode": {
    "name": "ipython",
    "version": 3
   },
   "file_extension": ".py",
   "mimetype": "text/x-python",
   "name": "python",
   "nbconvert_exporter": "python",
   "pygments_lexer": "ipython3",
   "version": "3.7.6"
  }
 },
 "nbformat": 4,
 "nbformat_minor": 4
}
