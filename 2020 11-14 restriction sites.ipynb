{
 "cells": [
  {
   "cell_type": "code",
   "execution_count": 1,
   "metadata": {},
   "outputs": [],
   "source": [
    "from jkglab import syncodons"
   ]
  },
  {
   "cell_type": "code",
   "execution_count": 11,
   "metadata": {},
   "outputs": [
    {
     "name": "stdout",
     "output_type": "stream",
     "text": [
      "RsrII 5 CCCGGACCGATACCAAAA\n",
      "BmgBI 11 CCAGGACCACGTCCAAAA\n",
      "Acc65I 10 CCAGGACCGGTACCAAAA\n",
      "KpnI 14 CCAGGACCGGTACCAAAA\n",
      "FseI 11 CCAGGGCCGGCCCCAAAA\n",
      "SrfI 9 CCAGGCCCGGGCCCAAAA\n",
      "PasI 8 CCAGGCCCAGGGCCAAAA\n",
      "SrfI 10 CCAGGGCCCGGGCCAAAA\n",
      "BstXI 9 CCAGGACCATGGCCAAAA\n",
      "MscI 13 CCAGGACCATGGCCAAAA\n",
      "RsrII 11 CCAGGACCCGGACCGAAA\n"
     ]
    }
   ],
   "source": [
    "syncodons('CCAGGACCAnnnCCCAAG',0,[])"
   ]
  },
  {
   "cell_type": "code",
   "execution_count": 12,
   "metadata": {},
   "outputs": [
    {
     "data": {
      "text/html": [
       "<div>\n",
       "<style scoped>\n",
       "    .dataframe tbody tr th:only-of-type {\n",
       "        vertical-align: middle;\n",
       "    }\n",
       "\n",
       "    .dataframe tbody tr th {\n",
       "        vertical-align: top;\n",
       "    }\n",
       "\n",
       "    .dataframe thead th {\n",
       "        text-align: right;\n",
       "    }\n",
       "</style>\n",
       "<table border=\"1\" class=\"dataframe\">\n",
       "  <thead>\n",
       "    <tr style=\"text-align: right;\">\n",
       "      <th></th>\n",
       "      <th>seq</th>\n",
       "    </tr>\n",
       "  </thead>\n",
       "  <tbody>\n",
       "    <tr>\n",
       "      <th>0</th>\n",
       "      <td>TGAggccaggcacggctttgggc</td>\n",
       "    </tr>\n",
       "    <tr>\n",
       "      <th>1</th>\n",
       "      <td>TCAgcccaaagccgtgcctggcc</td>\n",
       "    </tr>\n",
       "    <tr>\n",
       "      <th>2</th>\n",
       "      <td>TGAggctgtttcacatctaattt</td>\n",
       "    </tr>\n",
       "    <tr>\n",
       "      <th>3</th>\n",
       "      <td>TCAaaattagatgtgaaacagcc</td>\n",
       "    </tr>\n",
       "    <tr>\n",
       "      <th>4</th>\n",
       "      <td>cctgctcgaacagttccagg</td>\n",
       "    </tr>\n",
       "    <tr>\n",
       "      <th>5</th>\n",
       "      <td>actgattggtggagtcgacc</td>\n",
       "    </tr>\n",
       "    <tr>\n",
       "      <th>6</th>\n",
       "      <td>ccctgtgtgggtagcaacc</td>\n",
       "    </tr>\n",
       "    <tr>\n",
       "      <th>7</th>\n",
       "      <td>tcatttgggtcaatatgtaattt</td>\n",
       "    </tr>\n",
       "    <tr>\n",
       "      <th>8</th>\n",
       "      <td>tacaaaggcattaaagcagcgta</td>\n",
       "    </tr>\n",
       "    <tr>\n",
       "      <th>9</th>\n",
       "      <td>AGATCCGCTACCGGACCCGCTTCC</td>\n",
       "    </tr>\n",
       "    <tr>\n",
       "      <th>10</th>\n",
       "      <td>TAGTCGGGAACATCATAAGG</td>\n",
       "    </tr>\n",
       "    <tr>\n",
       "      <th>11</th>\n",
       "      <td>CTCTGCAACCCTGGAGGTGG</td>\n",
       "    </tr>\n",
       "    <tr>\n",
       "      <th>12</th>\n",
       "      <td>GGACCAGGAAAGAGTGCACC</td>\n",
       "    </tr>\n",
       "    <tr>\n",
       "      <th>13</th>\n",
       "      <td>AACTGCCCTGATGGGCAGTC</td>\n",
       "    </tr>\n",
       "    <tr>\n",
       "      <th>14</th>\n",
       "      <td>AACCCCACAGTCACCTATGG</td>\n",
       "    </tr>\n",
       "    <tr>\n",
       "      <th>15</th>\n",
       "      <td>AAGGATGGCACTTTCCCACTG</td>\n",
       "    </tr>\n",
       "    <tr>\n",
       "      <th>16</th>\n",
       "      <td>GGATCCATAGTGATTATAAC</td>\n",
       "    </tr>\n",
       "    <tr>\n",
       "      <th>17</th>\n",
       "      <td>ATAGTGATTATAACGGTCG</td>\n",
       "    </tr>\n",
       "    <tr>\n",
       "      <th>18</th>\n",
       "      <td>attatcatcgtgtttttcaaagg</td>\n",
       "    </tr>\n",
       "    <tr>\n",
       "      <th>19</th>\n",
       "      <td>CCTCACATTGCCAAAAGACG</td>\n",
       "    </tr>\n",
       "    <tr>\n",
       "      <th>20</th>\n",
       "      <td>TCGAcGGAATTAATTCGAGCTCtGTAC</td>\n",
       "    </tr>\n",
       "    <tr>\n",
       "      <th>21</th>\n",
       "      <td>aGAGCTCGAATTAATTCCg</td>\n",
       "    </tr>\n",
       "    <tr>\n",
       "      <th>22</th>\n",
       "      <td>GGATCCGCTCACTGTGACTTG</td>\n",
       "    </tr>\n",
       "    <tr>\n",
       "      <th>23</th>\n",
       "      <td>tctcgagaattctcacgagatctATGGAC</td>\n",
       "    </tr>\n",
       "    <tr>\n",
       "      <th>24</th>\n",
       "      <td>gatcacctgcaggcatgcaagcttgatat</td>\n",
       "    </tr>\n",
       "    <tr>\n",
       "      <th>25</th>\n",
       "      <td>atatcaagcttgcatgcctgcaggt</td>\n",
       "    </tr>\n",
       "    <tr>\n",
       "      <th>26</th>\n",
       "      <td>acctccgccagatgagccacc</td>\n",
       "    </tr>\n",
       "    <tr>\n",
       "      <th>27</th>\n",
       "      <td>ggtggctcatctggcggagg</td>\n",
       "    </tr>\n",
       "    <tr>\n",
       "      <th>28</th>\n",
       "      <td>GGCGGTGGAAGCTCAGGAGG</td>\n",
       "    </tr>\n",
       "    <tr>\n",
       "      <th>29</th>\n",
       "      <td>TCCTGAGGATAAaTCTTCTTC</td>\n",
       "    </tr>\n",
       "    <tr>\n",
       "      <th>30</th>\n",
       "      <td>ATCCTGGACTACAGCTTCACAGG</td>\n",
       "    </tr>\n",
       "    <tr>\n",
       "      <th>31</th>\n",
       "      <td>cctgtgaagctgtagtccagg</td>\n",
       "    </tr>\n",
       "    <tr>\n",
       "      <th>32</th>\n",
       "      <td>TTGGGGCTGTACCGGCACTCC</td>\n",
       "    </tr>\n",
       "    <tr>\n",
       "      <th>33</th>\n",
       "      <td>tgcgcatcacgcttgaagacc</td>\n",
       "    </tr>\n",
       "    <tr>\n",
       "      <th>34</th>\n",
       "      <td>tcaggcagctcacaggcctcc</td>\n",
       "    </tr>\n",
       "    <tr>\n",
       "      <th>35</th>\n",
       "      <td>tgcgctggcgcccaccactgg</td>\n",
       "    </tr>\n",
       "    <tr>\n",
       "      <th>36</th>\n",
       "      <td>TGCTCAGCAGCTTCATcc</td>\n",
       "    </tr>\n",
       "    <tr>\n",
       "      <th>37</th>\n",
       "      <td>gttgcaggtgggagttgc</td>\n",
       "    </tr>\n",
       "    <tr>\n",
       "      <th>38</th>\n",
       "      <td>aatgctgtgggccaggacacg</td>\n",
       "    </tr>\n",
       "    <tr>\n",
       "      <th>39</th>\n",
       "      <td>agaggttgattatcgataagc</td>\n",
       "    </tr>\n",
       "    <tr>\n",
       "      <th>40</th>\n",
       "      <td>agctctcgagaattctcacg</td>\n",
       "    </tr>\n",
       "    <tr>\n",
       "      <th>41</th>\n",
       "      <td>gcggccgCAAGTCAAGG</td>\n",
       "    </tr>\n",
       "    <tr>\n",
       "      <th>42</th>\n",
       "      <td>GGCAGGTGGACAGTGGATC</td>\n",
       "    </tr>\n",
       "    <tr>\n",
       "      <th>43</th>\n",
       "      <td>atatcaagcttgcatgcc</td>\n",
       "    </tr>\n",
       "    <tr>\n",
       "      <th>44</th>\n",
       "      <td>GCGATCGCAAGAGGAGATC</td>\n",
       "    </tr>\n",
       "    <tr>\n",
       "      <th>45</th>\n",
       "      <td>TTCGAAAAAGGAGGAGCG</td>\n",
       "    </tr>\n",
       "    <tr>\n",
       "      <th>46</th>\n",
       "      <td>atattggatctaggtacc</td>\n",
       "    </tr>\n",
       "    <tr>\n",
       "      <th>47</th>\n",
       "      <td>ATGCTCCAGACTGCCTTGG</td>\n",
       "    </tr>\n",
       "    <tr>\n",
       "      <th>48</th>\n",
       "      <td>CGTACGGCCCGGGATTTTC</td>\n",
       "    </tr>\n",
       "    <tr>\n",
       "      <th>49</th>\n",
       "      <td>CCATGGTCCTGGATTCTCC</td>\n",
       "    </tr>\n",
       "    <tr>\n",
       "      <th>50</th>\n",
       "      <td>AATGACCCTGCGCCTTATTT</td>\n",
       "    </tr>\n",
       "    <tr>\n",
       "      <th>51</th>\n",
       "      <td>ataagcttgatatcgaattcg</td>\n",
       "    </tr>\n",
       "    <tr>\n",
       "      <th>52</th>\n",
       "      <td>ggcaaagcacgtgagatctg</td>\n",
       "    </tr>\n",
       "    <tr>\n",
       "      <th>53</th>\n",
       "      <td>cagcctgcactggtggggtg</td>\n",
       "    </tr>\n",
       "    <tr>\n",
       "      <th>54</th>\n",
       "      <td>gttgtgtggaaaaactatg</td>\n",
       "    </tr>\n",
       "    <tr>\n",
       "      <th>55</th>\n",
       "      <td>CATAGCGTAAAAGGAGCAACA</td>\n",
       "    </tr>\n",
       "  </tbody>\n",
       "</table>\n",
       "</div>"
      ],
      "text/plain": [
       "                              seq\n",
       "0         TGAggccaggcacggctttgggc\n",
       "1         TCAgcccaaagccgtgcctggcc\n",
       "2         TGAggctgtttcacatctaattt\n",
       "3         TCAaaattagatgtgaaacagcc\n",
       "4            cctgctcgaacagttccagg\n",
       "5            actgattggtggagtcgacc\n",
       "6             ccctgtgtgggtagcaacc\n",
       "7         tcatttgggtcaatatgtaattt\n",
       "8         tacaaaggcattaaagcagcgta\n",
       "9        AGATCCGCTACCGGACCCGCTTCC\n",
       "10           TAGTCGGGAACATCATAAGG\n",
       "11           CTCTGCAACCCTGGAGGTGG\n",
       "12           GGACCAGGAAAGAGTGCACC\n",
       "13           AACTGCCCTGATGGGCAGTC\n",
       "14           AACCCCACAGTCACCTATGG\n",
       "15          AAGGATGGCACTTTCCCACTG\n",
       "16           GGATCCATAGTGATTATAAC\n",
       "17            ATAGTGATTATAACGGTCG\n",
       "18        attatcatcgtgtttttcaaagg\n",
       "19           CCTCACATTGCCAAAAGACG\n",
       "20    TCGAcGGAATTAATTCGAGCTCtGTAC\n",
       "21            aGAGCTCGAATTAATTCCg\n",
       "22          GGATCCGCTCACTGTGACTTG\n",
       "23  tctcgagaattctcacgagatctATGGAC\n",
       "24  gatcacctgcaggcatgcaagcttgatat\n",
       "25      atatcaagcttgcatgcctgcaggt\n",
       "26          acctccgccagatgagccacc\n",
       "27           ggtggctcatctggcggagg\n",
       "28           GGCGGTGGAAGCTCAGGAGG\n",
       "29          TCCTGAGGATAAaTCTTCTTC\n",
       "30        ATCCTGGACTACAGCTTCACAGG\n",
       "31          cctgtgaagctgtagtccagg\n",
       "32          TTGGGGCTGTACCGGCACTCC\n",
       "33          tgcgcatcacgcttgaagacc\n",
       "34          tcaggcagctcacaggcctcc\n",
       "35          tgcgctggcgcccaccactgg\n",
       "36             TGCTCAGCAGCTTCATcc\n",
       "37             gttgcaggtgggagttgc\n",
       "38          aatgctgtgggccaggacacg\n",
       "39          agaggttgattatcgataagc\n",
       "40           agctctcgagaattctcacg\n",
       "41              gcggccgCAAGTCAAGG\n",
       "42            GGCAGGTGGACAGTGGATC\n",
       "43             atatcaagcttgcatgcc\n",
       "44            GCGATCGCAAGAGGAGATC\n",
       "45             TTCGAAAAAGGAGGAGCG\n",
       "46             atattggatctaggtacc\n",
       "47            ATGCTCCAGACTGCCTTGG\n",
       "48            CGTACGGCCCGGGATTTTC\n",
       "49            CCATGGTCCTGGATTCTCC\n",
       "50           AATGACCCTGCGCCTTATTT\n",
       "51          ataagcttgatatcgaattcg\n",
       "52           ggcaaagcacgtgagatctg\n",
       "53           cagcctgcactggtggggtg\n",
       "54            gttgtgtggaaaaactatg\n",
       "55          CATAGCGTAAAAGGAGCAACA"
      ]
     },
     "execution_count": 12,
     "metadata": {},
     "output_type": "execute_result"
    }
   ],
   "source": [
    "import pandas as pd\n",
    "primers = pd.read_clipboard()"
   ]
  },
  {
   "cell_type": "code",
   "execution_count": 14,
   "metadata": {},
   "outputs": [],
   "source": [
    "primers = [x.lower() for x in primers['seq'].values]"
   ]
  },
  {
   "cell_type": "code",
   "execution_count": 4,
   "metadata": {},
   "outputs": [],
   "source": [
    "BFP='atgCCCAAGAAGAAGAGGAAGGTGagcgagctgattaaggagaacatgcacatgaagctgtacatggagggcaccgtggacaaccatcacttcaagtgcacatccgagggcgaaggcaagccctacgagggcacccagaccatgagaatcaaggtggtcgagggcggccctctccccttcgccttcgacatcctggctactagcttcctctacggcagcaagaccttcatcaaccacacccagggcatccccgacttcttcaagcagtccttccctgagggcttcacatgggagagagtcaccacatacgaagacgggggcgtgctgaccgctacccaggacaccagcctccaggacggctgcctcatctacaacgtcaagatcagaggggtgaacttcacatccaacggccctgtgatgcagaagaaaacactcggctgggaggccttcaccgagacgctgtaccccgctgacggcggcctggaaggcagaaacgacatggccctgaagctcgtgggcgggagccatctgatcgcaaacatcaagaccacatatagatccaagaaacccgctaagaacctcaagatgcctggcgtctactatgtggactacagactggaaagaatcaaggaggccaacaacgagacctacgtcgagcagcacgaggtggcagtggccagatactgcgacctccctagcaaactggggcacaagcttaat'.lower()"
   ]
  },
  {
   "cell_type": "code",
   "execution_count": 5,
   "metadata": {},
   "outputs": [],
   "source": [
    "mCh = 'GTGAGCAAGGGCGAGGAGGATAACATGGCCATCATCAAGGAGTTCATGCGCTTCAAGGTGCACATGGAGGGCTCCGTGAACGGCCACGAGTTCGAGATCGAGGGCGAGGGCGAGGGCCGCCCCTACGAGGGCACCCAGACCGCCAAGCTGAAGGTGACCAAGGGTGGCCCCCTGCCCTTCGCCTGGGACATCCTGTCCCCTCAGTTCATGTACGGCTCCAAGGCCTACGTGAAGCACCCCGCCGACATCCCCGACTACTTGAAGCTGTCCTTCCCCGAGGGCTTCAAGTGGGAGCGCGTGATGAACTTCGAGGACGGCGGCGTGGTGACCGTGACCCAGGACTCCTCCCTGCAGGACGGCGAGTTCATCTACAAGGTGAAGCTGCGCGGCACCAACTTCCCCTCCGACGGCCCCGTAATGCAGAAGAAGACCATGGGCTGGGAGGCCTCCTCCGAGCGGATGTACCCCGAGGACGGCGCCCTGAAGGGCGAGATCAAGCAGAGGCTGAAGCTGAAGGACGGCGGCCACTACGACGCTGAGGTCAAGACCACCTACAAGGCCAAGAAGCCCGTTCAGCTGCCCGGCGCCTACAACGTCAACATCAAGTTGGACATCACCTCCCACAACGAGGACTACACCATCGTGGAACAGTACGAACGCGCCGAGGGCCGCCACTCCACCGGCGGCATGGACGAGCTGTACAAG'.lower()"
   ]
  },
  {
   "cell_type": "code",
   "execution_count": 6,
   "metadata": {},
   "outputs": [],
   "source": [
    "GFP = 'atggtgagcaagggcgaggagctgttcaccggggtggtgcccatcctggtcgagctggacggcgacgtaaacggccacaagttcagcgtgtccggcgagggcgagggcgatgccacctacggcaagctgaccctgaagttcatctgcaccaccggcaagctgcccgtgccctggcccaccctcgtgaccaccctgacctggggcgtgcagtgcttcgcccgctaccccgaccacatgaagcagcacgacttcttcaagtccgccatgcccgaaggctacgtccaggagcgcaccatcttcttcaaggacgacggcaactacaagacccgcgccgaggtgaagttcgagggcgacaccctggtgaaccgcatcgagctgaagggcatcgacttcaaggaggacggcaacatcctggggcacaagctggagtacaacgccatcagcgacaacgtctatatcaccgccgacaagcagaagaacggcatcaaggccaacttcaagatccgccacaacatcgaggacggcagcgtgcagctcgccgaccactaccagcagaacacccccatcggcgacggccccgtgctgctgcccgacaaccactacctgagcacccagtccaagctgagcaaagaccccaacgagaagcgcgatcacatggtcctgctggagttcgtgaccgccgccgggatcactctcggcatggacgagctgtacaag'.lower()"
   ]
  },
  {
   "cell_type": "code",
   "execution_count": 20,
   "metadata": {},
   "outputs": [
    {
     "name": "stdout",
     "output_type": "stream",
     "text": [
      "gtgagcaagggcgagga\n",
      "tgagcaagggcgaggag\n",
      "cggcatggacgagctgt\n",
      "ggcatggacgagctgta\n",
      "gcatggacgagctgtac\n",
      "catggacgagctgtaca\n"
     ]
    }
   ],
   "source": [
    "for i in range(len(GFP)-18):\n",
    "    s = GFP[i:i+17]\n",
    "    if all([s in mCh]):\n",
    "        print(s)"
   ]
  },
  {
   "cell_type": "code",
   "execution_count": 1,
   "metadata": {},
   "outputs": [],
   "source": [
    "import pandas as pd"
   ]
  },
  {
   "cell_type": "code",
   "execution_count": 9,
   "metadata": {},
   "outputs": [],
   "source": [
    "journals = pd.read_clipboard(sep='|')"
   ]
  },
  {
   "cell_type": "code",
   "execution_count": 14,
   "metadata": {},
   "outputs": [
    {
     "data": {
      "text/html": [
       "<div>\n",
       "<style scoped>\n",
       "    .dataframe tbody tr th:only-of-type {\n",
       "        vertical-align: middle;\n",
       "    }\n",
       "\n",
       "    .dataframe tbody tr th {\n",
       "        vertical-align: top;\n",
       "    }\n",
       "\n",
       "    .dataframe thead th {\n",
       "        text-align: right;\n",
       "    }\n",
       "</style>\n",
       "<table border=\"1\" class=\"dataframe\">\n",
       "  <thead>\n",
       "    <tr style=\"text-align: right;\">\n",
       "      <th></th>\n",
       "      <th>journal</th>\n",
       "    </tr>\n",
       "  </thead>\n",
       "  <tbody>\n",
       "    <tr>\n",
       "      <th>0</th>\n",
       "      <td>Acta Neuropathol</td>\n",
       "    </tr>\n",
       "    <tr>\n",
       "      <th>1</th>\n",
       "      <td>AJNR Am J Neuroradiol</td>\n",
       "    </tr>\n",
       "    <tr>\n",
       "      <th>2</th>\n",
       "      <td>Ann Clin Transl Neurol</td>\n",
       "    </tr>\n",
       "    <tr>\n",
       "      <th>3</th>\n",
       "      <td>Ann Neurol</td>\n",
       "    </tr>\n",
       "    <tr>\n",
       "      <th>4</th>\n",
       "      <td>Annu Rev Med</td>\n",
       "    </tr>\n",
       "    <tr>\n",
       "      <th>...</th>\n",
       "      <td>...</td>\n",
       "    </tr>\n",
       "    <tr>\n",
       "      <th>110</th>\n",
       "      <td>Sci Rep</td>\n",
       "    </tr>\n",
       "    <tr>\n",
       "      <th>111</th>\n",
       "      <td>Sci Signal</td>\n",
       "    </tr>\n",
       "    <tr>\n",
       "      <th>112</th>\n",
       "      <td>Sci Transl Med</td>\n",
       "    </tr>\n",
       "    <tr>\n",
       "      <th>113</th>\n",
       "      <td>Science</td>\n",
       "    </tr>\n",
       "    <tr>\n",
       "      <th>114</th>\n",
       "      <td>Stroke</td>\n",
       "    </tr>\n",
       "  </tbody>\n",
       "</table>\n",
       "<p>115 rows × 1 columns</p>\n",
       "</div>"
      ],
      "text/plain": [
       "                    journal\n",
       "0          Acta Neuropathol\n",
       "1     AJNR Am J Neuroradiol\n",
       "2    Ann Clin Transl Neurol\n",
       "3                Ann Neurol\n",
       "4              Annu Rev Med\n",
       "..                      ...\n",
       "110                 Sci Rep\n",
       "111              Sci Signal\n",
       "112          Sci Transl Med\n",
       "113                 Science\n",
       "114                  Stroke\n",
       "\n",
       "[115 rows x 1 columns]"
      ]
     },
     "execution_count": 14,
     "metadata": {},
     "output_type": "execute_result"
    }
   ],
   "source": [
    "journals"
   ]
  },
  {
   "cell_type": "code",
   "execution_count": 16,
   "metadata": {},
   "outputs": [
    {
     "data": {
      "text/plain": [
       "'\"Acta Neuropathol\"[Journal] OR \"AJNR Am J Neuroradiol\"[Journal] OR \"Ann Clin Transl Neurol\"[Journal] OR \"Ann Neurol\"[Journal] OR \"Annu Rev Med\"[Journal] OR \"Annu Rev Pathol\"[Journal] OR \"APL Bioeng\"[Journal] OR \"Autoimmun Rev\"[Journal] OR \"bioRxiv\"[Journal] OR \"Blood\"[Journal] OR \"BMC Neurol\"[Journal] OR \"BMC Neurosci\"[Journal] OR \"BMC Med\"[Journal] OR \"BMC Med Genet\"[Journal] OR \"BMC Med Genomics\"[Journal] OR \"BMJ Case Rep\"[Journal] OR \"Brain\"[Journal] OR \"Brain Behav\"[Journal] OR \"Brain Behav Immun\"[Journal] OR \"Brain Pathol\"[Journal] OR \"Brain Res\"[Journal] OR \"Cancer Cell\"[Journal] OR \"Cell\"[Journal] OR \"Cell Death Differ\"[Journal] OR \"Cell Immunol\"[Journal] OR \"Cell Metab\"[Journal] OR \"Cell Rep\"[Journal] OR \"Cell Signal\"[Journal] OR \"Cell Stem Cell\"[Journal] OR \"Cephalalgia\"[Journal] OR \"Cereb Cortex\"[Journal] OR \"Cerebellum\"[Journal] OR \"Clin Immunol\"[Journal] OR \"Clin Infect Dis\"[Journal] OR \"Clin Lab Med\"[Journal] OR \"Clin Neuropathol\"[Journal] OR \"Clin Rheumatol\"[Journal] OR \"Clin Transl Immunology\"[Journal] OR \"Cochrane Database Syst Rev\"[Journal] OR \"Curr Gene Ther\"[Journal] OR \"Curr Opin Immunol\"[Journal] OR \"Curr Opin Neurol\"[Journal] OR \"Cytokine\"[Journal] OR \"Dev Cell\"[Journal] OR \"Elife\"[Journal] OR \"EMBO J\"[Journal] OR \"EMBO Mol Med\"[Journal] OR \"Epilepsia\"[Journal] OR \"Eur J Immunol\"[Journal] OR \"Eur J Neurol\"[Journal] OR \"Eur Neurol\"[Journal] OR \"Exp Neurol\"[Journal] OR \"FASEB J\"[Journal] OR \"Fluids Barriers CNS\"[Journal] OR \"Front Cell Neurosci\"[Journal] OR \"Front Immunol\"[Journal] OR \"Front Neurol\"[Journal] OR \"Front Neurosci\"[Journal] OR \"Genes Dev\"[Journal] OR \"Glia\"[Journal] OR \"Handb Clin Neurol\"[Journal] OR \"Hum Mol Genet\"[Journal] OR \"Immunity\"[Journal] OR \"Immunol Cell Biol\"[Journal] OR \"Immunol Rev\"[Journal] OR \"Immunology\"[Journal] OR \"J Biol Chem\"[Journal] OR \"J Cell Biol\"[Journal] OR \"J Cereb Blood Flow Metab\"[Journal] OR \"J Clin Immunol\"[Journal] OR \"J Clin Invest\"[Journal] OR \"J Exp Med\"[Journal] OR \"J Immunol\"[Journal] OR \"J Leukoc Biol\"[Journal] OR \"J Neuroimmunol\"[Journal] OR \"J Neuroimmune Pharmacol\"[Journal] OR \"J Neuroinflammation\"[Journal] OR \"J Neurol\"[Journal] OR \"JAMA\"[Journal] OR \"JAMA Neurol\"[Journal] OR \"JCI Insight\"[Journal] OR \"Lancet\"[Journal] OR \"Lancet Neurol\"[Journal] OR \"Mult Scler\"[Journal] OR \"Mult Scler Relat Disord\"[Journal] OR \"N Engl J Med\"[Journal] OR \"Nat Biomed Eng\"[Journal] OR \"Nat Commun\"[Journal] OR \"Nat Genet\"[Journal] OR \"Nat Immunol\"[Journal] OR \"Nat Med\"[Journal] OR \"Nat Metab\"[Journal] OR \"Nat Neurosci\"[Journal] OR \"Nat Rev Dis Primers\"[Journal] OR \"Nat Rev Immunol\"[Journal] OR \"Nat Rev Neurol\"[Journal] OR \"Nat Rev Neurosci\"[Journal] OR \"Nature\"[Journal] OR \"Neurol Neuroimmunol Neuroinflamm\"[Journal] OR \"Neurology\"[Journal] OR \"Neuron\"[Journal] OR \"Neuroradiology\"[Journal] OR \"Neurosci Lett\"[Journal] OR \"Oncogene\"[Journal] OR \"Oncoimmunology\"[Journal] OR \"PLoS Genet\"[Journal] OR \"PLoS One\"[Journal] OR \"Proc Natl Acad Sci U S A\"[Journal] OR \"Rev Neurol\"[Journal] OR \"Sci Immunol\"[Journal] OR \"Sci Rep\"[Journal] OR \"Sci Signal\"[Journal] OR \"Sci Transl Med\"[Journal] OR \"Science\"[Journal] OR \"Stroke\"[Journal]'"
      ]
     },
     "execution_count": 16,
     "metadata": {},
     "output_type": "execute_result"
    }
   ],
   "source": [
    "' OR '.join(['\"'+x+'\"[Journal]' for x in journals['journal'].values])"
   ]
  },
  {
   "cell_type": "code",
   "execution_count": 12,
   "metadata": {},
   "outputs": [
    {
     "data": {
      "text/plain": [
       "'\"r\"'"
      ]
     },
     "execution_count": 12,
     "metadata": {},
     "output_type": "execute_result"
    }
   ],
   "source": [
    "test"
   ]
  },
  {
   "cell_type": "code",
   "execution_count": 17,
   "metadata": {},
   "outputs": [],
   "source": [
    "from jkglab import syncodons"
   ]
  },
  {
   "cell_type": "code",
   "execution_count": 25,
   "metadata": {},
   "outputs": [
    {
     "name": "stdout",
     "output_type": "stream",
     "text": [
      "BmgBI 4 GACGTGGAAGAAAACCCAGGACCAATGATA\n",
      "PasI 17 GACGTAGAAGAAAACCCAGGGCCAATGATA\n",
      "RsrII 20 GACGTAGAAGAAAACCCCGGACCGATGATA\n"
     ]
    }
   ],
   "source": [
    "syncodons('GATGTCGAAGAAAATCCCGGGCCGATGnnn',0,[])\n",
    "# AGCCTATTAACTTGTGGTGATGTCGAAGAAAATCCCGGGCCGATG"
   ]
  },
  {
   "cell_type": "code",
   "execution_count": null,
   "metadata": {},
   "outputs": [],
   "source": []
  }
 ],
 "metadata": {
  "kernelspec": {
   "display_name": "Python 3",
   "language": "python",
   "name": "python3"
  },
  "language_info": {
   "codemirror_mode": {
    "name": "ipython",
    "version": 3
   },
   "file_extension": ".py",
   "mimetype": "text/x-python",
   "name": "python",
   "nbconvert_exporter": "python",
   "pygments_lexer": "ipython3",
   "version": "3.7.6"
  }
 },
 "nbformat": 4,
 "nbformat_minor": 4
}
