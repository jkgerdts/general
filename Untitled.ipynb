{
 "cells": [
  {
   "cell_type": "code",
   "execution_count": 24,
   "metadata": {
    "scrolled": false
   },
   "outputs": [],
   "source": [
    "import atlastk as Atlas"
   ]
  },
  {
   "cell_type": "code",
   "execution_count": null,
   "metadata": {},
   "outputs": [],
   "source": [
    "body = \"\"\"\n",
    "<div style=\"display: table; margin: 50px auto auto auto;\">\n",
    " <fieldset>\n",
    "  <input id=\"input\" maxlength=\"200\" placeholder=\"Enter a name here\" type=\"text\"\n",
    "      data-xdh-onevent=\"Submit\" value=\"World\"/>\n",
    "  <div style=\"display: flex; justify-content: space-around; margin: 5px auto auto auto;\">\n",
    "   <button data-xdh-onevent=\"Submit\">Submit</button>\n",
    "   <button data-xdh-onevent=\"Clear\">Clear</button>\n",
    "  </div>\n",
    " </fieldset>\n",
    "</div>\n",
    "\"\"\"\n",
    "def ac_connect(dom):\n",
    "    dom.inner(\"\",body)\n",
    "    dom.focus(\"input\")\n",
    "    \n",
    "def ac_submit(dom):\n",
    "    dom.alert(\"hello, \"+dom.get_content(\"input\")+\"!\")\n",
    "    dom.focus(\"input\")\n",
    "    \n",
    "def ac_clear(dom):\n",
    "    if (dom.confirm(\"Are you sure?\")):\n",
    "        dom.set_content(\"input\",\"\")\n",
    "    dom.focus(\"input\")\n",
    "\n",
    "callbacks = {\"\": ac_connect,\"Submit\": ac_submit, \"Clear\": ac_clear}\n",
    "\n",
    "Atlas.launch(callbacks)"
   ]
  },
  {
   "cell_type": "code",
   "execution_count": 73,
   "metadata": {},
   "outputs": [
    {
     "name": "stdout",
     "output_type": "stream",
     "text": [
      "what are you going to  writeok\n"
     ]
    },
    {
     "data": {
      "text/plain": [
       "'ok'"
      ]
     },
     "execution_count": 73,
     "metadata": {},
     "output_type": "execute_result"
    }
   ],
   "source": [
    "input('what are you going to  write')"
   ]
  },
  {
   "cell_type": "code",
   "execution_count": 72,
   "metadata": {
    "scrolled": false
   },
   "outputs": [
    {
     "name": "stdout",
     "output_type": "stream",
     "text": [
      "QUESTION dravet syndrome\n",
      "SCN1A multiple seizure types\n",
      "ANSWER usually presents as febrile sz 6 months, often recurrent, SCN1A, other seizure types develop by 1 year\n",
      "9\n",
      "----------------------\n",
      "QUESTION ciliary body\n",
      "\n",
      "ANSWER contains the ciliary muscle, changes the shape of the lens in accommodation. Contraction of the ciliary muscle for near vision (pulls suspensory ligament increasing lens refractive power), parasympathetic (cholinergic); contraction of the RADIAL muscles of the iris is adrenergic / sympathetic and causes mydriasis\n",
      "\n",
      "error assigning weight from input \n",
      "----------------------\n",
      "QUESTION MTS\n",
      "\n",
      "ANSWER usually focal onset with aura of epigastric rising, fear, unusual tastes and smells; common to have history of febrile seizures\n",
      "X\n",
      "error assigning weight from input X\n",
      "----------------------\n",
      "QUESTION L5 weakness\n",
      "X\n",
      "ANSWER hip abduction - trendelenberg gait\n",
      "9\n",
      "----------------------\n"
     ]
    }
   ],
   "source": [
    "def reviewboards():\n",
    "    \n",
    "    input('copy the whole table and press enter')\n",
    "    \n",
    "    import pandas as pd\n",
    "    import random\n",
    "\n",
    "    df = pd.read_clipboard()\n",
    "\n",
    "    def shuffle(dff):\n",
    "        l = len(dff)\n",
    "        arr = [x for x in range(l) if dff['W'].loc[x]*0.1>random.random()]\n",
    "        random.shuffle(arr)\n",
    "        it = iter(arr)\n",
    "        print('shuffling; returning: ',len(arr))\n",
    "        return it\n",
    "\n",
    "    it = shuffle(df)\n",
    "    wcol = df.columns.get_loc('W')\n",
    "\n",
    "    resp = ''\n",
    "    counter = 0\n",
    "    while resp not in ['X']:\n",
    "        if counter > 10:\n",
    "            it = shuffle(df)\n",
    "            counter = 0\n",
    "        counter = counter+1\n",
    "        i = next(it)\n",
    "        print('QUESTION',df.iloc[i]['S'])\n",
    "        resp = input('')\n",
    "        print('ANSWER',df.iloc[i]['R'])\n",
    "        weight = input('')\n",
    "        try:\n",
    "            df.iloc[i,wcol]=int(weight)\n",
    "        except:\n",
    "            print('error assigning weight from input',weight)\n",
    "        print('----------------------')\n",
    "    \n",
    "    df.to_clipboard()\n",
    "    print('dataframe copied to clipboard and returned from function call')\n",
    "    return df\n",
    "        "
   ]
  },
  {
   "cell_type": "code",
   "execution_count": 69,
   "metadata": {},
   "outputs": [],
   "source": []
  },
  {
   "cell_type": "code",
   "execution_count": 70,
   "metadata": {},
   "outputs": [
    {
     "data": {
      "text/plain": [
       "2"
      ]
     },
     "execution_count": 70,
     "metadata": {},
     "output_type": "execute_result"
    }
   ],
   "source": [
    "wcol"
   ]
  },
  {
   "cell_type": "code",
   "execution_count": 52,
   "metadata": {},
   "outputs": [],
   "source": []
  },
  {
   "cell_type": "code",
   "execution_count": 53,
   "metadata": {},
   "outputs": [],
   "source": []
  },
  {
   "cell_type": "code",
   "execution_count": 54,
   "metadata": {},
   "outputs": [
    {
     "data": {
      "text/plain": [
       "345"
      ]
     },
     "execution_count": 54,
     "metadata": {},
     "output_type": "execute_result"
    }
   ],
   "source": []
  },
  {
   "cell_type": "code",
   "execution_count": 57,
   "metadata": {},
   "outputs": [
    {
     "ename": "TypeError",
     "evalue": "'list' object is not an iterator",
     "output_type": "error",
     "traceback": [
      "\u001b[0;31m---------------------------------------------------------------------------\u001b[0m",
      "\u001b[0;31mTypeError\u001b[0m                                 Traceback (most recent call last)",
      "\u001b[0;32m<ipython-input-57-4091e8c48a7e>\u001b[0m in \u001b[0;36m<module>\u001b[0;34m\u001b[0m\n\u001b[0;32m----> 1\u001b[0;31m \u001b[0mnext\u001b[0m\u001b[0;34m(\u001b[0m\u001b[0marr\u001b[0m\u001b[0;34m)\u001b[0m\u001b[0;34m\u001b[0m\u001b[0;34m\u001b[0m\u001b[0m\n\u001b[0m",
      "\u001b[0;31mTypeError\u001b[0m: 'list' object is not an iterator"
     ]
    }
   ],
   "source": []
  },
  {
   "cell_type": "code",
   "execution_count": 76,
   "metadata": {},
   "outputs": [
    {
     "name": "stdout",
     "output_type": "stream",
     "text": [
      "2ug is 0.198 nmol\n"
     ]
    }
   ],
   "source": [
    "from jkglab import convert\n",
    "nmol = convert('2ug','nmol','10100g/mol')"
   ]
  },
  {
   "cell_type": "code",
   "execution_count": 79,
   "metadata": {},
   "outputs": [
    {
     "name": "stdout",
     "output_type": "stream",
     "text": [
      "0.004nmol/ul is 4.00 umol/l\n"
     ]
    },
    {
     "data": {
      "text/plain": [
       "4.0"
      ]
     },
     "execution_count": 79,
     "metadata": {},
     "output_type": "execute_result"
    }
   ],
   "source": [
    "convert('0.004nmol/ul','umol/l')"
   ]
  },
  {
   "cell_type": "code",
   "execution_count": 80,
   "metadata": {},
   "outputs": [
    {
     "data": {
      "text/plain": [
       "0.0091"
      ]
     },
     "execution_count": 80,
     "metadata": {},
     "output_type": "execute_result"
    }
   ],
   "source": [
    "0.091/10"
   ]
  },
  {
   "cell_type": "code",
   "execution_count": 81,
   "metadata": {},
   "outputs": [
    {
     "name": "stdout",
     "output_type": "stream",
     "text": [
      "0.009pmol/ul is 0.00900 umol/l\n"
     ]
    },
    {
     "data": {
      "text/plain": [
       "0.009"
      ]
     },
     "execution_count": 81,
     "metadata": {},
     "output_type": "execute_result"
    }
   ],
   "source": [
    "convert('0.009pmol/ul','umol/l')"
   ]
  },
  {
   "cell_type": "code",
   "execution_count": 82,
   "metadata": {},
   "outputs": [
    {
     "data": {
      "text/plain": [
       "444.44444444444446"
      ]
     },
     "execution_count": 82,
     "metadata": {},
     "output_type": "execute_result"
    }
   ],
   "source": [
    "4/0.009"
   ]
  },
  {
   "cell_type": "code",
   "execution_count": 84,
   "metadata": {},
   "outputs": [
    {
     "name": "stdout",
     "output_type": "stream",
     "text": [
      "mix 10ug into 1000 ml to make 10ng/ml\n"
     ]
    },
    {
     "data": {
      "text/plain": [
       "1000.0"
      ]
     },
     "execution_count": 84,
     "metadata": {},
     "output_type": "execute_result"
    }
   ],
   "source": [
    "convert('10ug','ml','10ng/ml')"
   ]
  },
  {
   "cell_type": "code",
   "execution_count": 85,
   "metadata": {},
   "outputs": [
    {
     "name": "stdout",
     "output_type": "stream",
     "text": [
      "mix 2.34 g into 40ml to make 1mol/l\n"
     ]
    },
    {
     "data": {
      "text/plain": [
       "2.336"
      ]
     },
     "execution_count": 85,
     "metadata": {},
     "output_type": "execute_result"
    }
   ],
   "source": [
    "convert('40ml','g','58.4g/mol','1mol/l')"
   ]
  },
  {
   "cell_type": "code",
   "execution_count": null,
   "metadata": {},
   "outputs": [],
   "source": []
  }
 ],
 "metadata": {
  "kernelspec": {
   "display_name": "Python 3",
   "language": "python",
   "name": "python3"
  },
  "language_info": {
   "codemirror_mode": {
    "name": "ipython",
    "version": 3
   },
   "file_extension": ".py",
   "mimetype": "text/x-python",
   "name": "python",
   "nbconvert_exporter": "python",
   "pygments_lexer": "ipython3",
   "version": "3.7.6"
  }
 },
 "nbformat": 4,
 "nbformat_minor": 4
}
