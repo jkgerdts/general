{
 "cells": [
  {
   "cell_type": "code",
   "execution_count": 2,
   "metadata": {},
   "outputs": [],
   "source": [
    "with open (\"speech.txt\", \"r\") as myfile:\n",
    "    data=myfile.readlines()"
   ]
  },
  {
   "cell_type": "code",
   "execution_count": 4,
   "metadata": {},
   "outputs": [],
   "source": [
    "data = data[0]"
   ]
  },
  {
   "cell_type": "code",
   "execution_count": 12,
   "metadata": {},
   "outputs": [],
   "source": [
    "cols = data.split('LN')[1:]"
   ]
  },
  {
   "cell_type": "code",
   "execution_count": 20,
   "metadata": {},
   "outputs": [
    {
     "name": "stdout",
     "output_type": "stream",
     "text": [
      "0,(Green|green),30\n",
      "0,(Blue|blue),33\n",
      "0,(Red|red|read|Read),24\n",
      "1,(Green|green),223\n",
      "1,(Blue|blue),125\n",
      "1,(Red|red|read|Read),26\n",
      "2,(Green|green),22\n",
      "2,(Blue|blue),32\n",
      "2,(Red|red|read|Read),47\n",
      "3,(Green|green),187\n",
      "3,(Blue|blue),101\n",
      "3,(Red|red|read|Read),19\n",
      "4,(Green|green),62\n",
      "4,(Blue|blue),73\n",
      "4,(Red|red|read|Read),62\n",
      "5,(Green|green),288\n",
      "5,(Blue|blue),144\n",
      "5,(Red|red|read|Read),29\n",
      "6,(Green|green),13\n",
      "6,(Blue|blue),9\n",
      "6,(Red|red|read|Read),11\n",
      "7,(Green|green),185\n",
      "7,(Blue|blue),108\n",
      "7,(Red|red|read|Read),27\n",
      "8,(Green|green),6\n",
      "8,(Blue|blue),15\n",
      "8,(Red|red|read|Read),8\n",
      "9,(Green|green),290\n",
      "9,(Blue|blue),143\n",
      "9,(Red|red|read|Read),26\n"
     ]
    }
   ],
   "source": [
    "import re\n",
    "for i in range(10):\n",
    "    for color in ['(Green|green)','(Blue|blue)','(Red|red|read|Read)']:\n",
    "        reg = re.compile(color)\n",
    "        print(i,color,len(reg.findall(cols[i])),sep=',')\n",
    "        "
   ]
  },
  {
   "cell_type": "code",
   "execution_count": 15,
   "metadata": {},
   "outputs": [],
   "source": [
    "import re\n",
    "read = re.compile('(read|Read|red|Red)')"
   ]
  },
  {
   "cell_type": "code",
   "execution_count": 18,
   "metadata": {},
   "outputs": [
    {
     "data": {
      "text/plain": [
       "24"
      ]
     },
     "execution_count": 18,
     "metadata": {},
     "output_type": "execute_result"
    }
   ],
   "source": [
    "len(read.findall(cols[0]))"
   ]
  },
  {
   "cell_type": "code",
   "execution_count": null,
   "metadata": {},
   "outputs": [],
   "source": []
  }
 ],
 "metadata": {
  "kernelspec": {
   "display_name": "Python 3",
   "language": "python",
   "name": "python3"
  },
  "language_info": {
   "codemirror_mode": {
    "name": "ipython",
    "version": 3
   },
   "file_extension": ".py",
   "mimetype": "text/x-python",
   "name": "python",
   "nbconvert_exporter": "python",
   "pygments_lexer": "ipython3",
   "version": "3.7.6"
  }
 },
 "nbformat": 4,
 "nbformat_minor": 4
}
